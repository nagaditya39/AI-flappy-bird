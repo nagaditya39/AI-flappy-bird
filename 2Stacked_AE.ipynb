{
  "nbformat": 4,
  "nbformat_minor": 0,
  "metadata": {
    "colab": {
      "provenance": [],
      "authorship_tag": "ABX9TyMcT67Bb+jcDQB7nD5m2eVI",
      "include_colab_link": true
    },
    "kernelspec": {
      "name": "python3",
      "display_name": "Python 3"
    },
    "language_info": {
      "name": "python"
    }
  },
  "cells": [
    {
      "cell_type": "markdown",
      "metadata": {
        "id": "view-in-github",
        "colab_type": "text"
      },
      "source": [
        "<a href=\"https://colab.research.google.com/github/nagaditya39/AI-flappy-bird/blob/main/2Stacked_AE.ipynb\" target=\"_parent\"><img src=\"https://colab.research.google.com/assets/colab-badge.svg\" alt=\"Open In Colab\"/></a>"
      ]
    },
    {
      "cell_type": "code",
      "source": [
        "import pandas as pd\n",
        "import numpy as np\n",
        "import tensorflow as tf\n",
        "import matplotlib.pyplot as plt\n",
        "import random\n",
        "from tensorflow.keras.layers import Dense, Input\n",
        "from tensorflow.keras.models import Model,Sequential"
      ],
      "metadata": {
        "id": "GqYvtdY3-cTc"
      },
      "execution_count": 65,
      "outputs": []
    },
    {
      "cell_type": "code",
      "source": [
        "train,test = pd.read_csv('/content/mnist_train.csv'),pd.read_csv('/content/mnist_test.csv')\n",
        "\n",
        "x_train = train.drop('label',axis=1)\n",
        "y_train = train['label']\n",
        "\n",
        "x_test = test.drop('label',axis=1)\n",
        "y_test = test['label']\n",
        "x_test = x_test /255.0\n",
        "x_train = x_train /255.0\n",
        "print(x_train.shape)\n",
        "print(x_test.shape)\n",
        "autoencoder.summary()\n",
        "\n",
        "input_layer = Input(shape=784)\n",
        "\n",
        "encode1 = Dense(256, activation = 'relu')(input_layer)\n",
        "encode2 = Dense(128, activation ='relu')(encode1)\n",
        "encoded_output = Dense(64, activation ='relu')(encode2)\n",
        "decode1 = Dense(128, activation ='relu')(encoded_output)\n",
        "decode2 = Dense(256, activation ='relu')(decode1)\n",
        "outputLayer = Dense(784, activation = 'sigmoid')(decode2)\n",
        "\n",
        "autoencoder = Model(input_layer, outputLayer)\n",
        "\n",
        "autoencoder.compile(optimizer='adam', loss='mse')\n",
        "autoencoder.fit(x_train,x_train,epochs=20, batch_size=256,shuffle=True,validation_data=(x_test,x_test))\n"
      ],
      "metadata": {
        "id": "_-XnmujORlv8",
        "colab": {
          "base_uri": "https://localhost:8080/"
        },
        "outputId": "0d9ee8ef-73dc-4abb-c8d4-632f1ffd4a19"
      },
      "execution_count": 53,
      "outputs": [
        {
          "output_type": "stream",
          "name": "stdout",
          "text": [
            "(60000, 784)\n",
            "(10000, 784)\n",
            "Model: \"model_11\"\n",
            "_________________________________________________________________\n",
            " Layer (type)                Output Shape              Param #   \n",
            "=================================================================\n",
            " input_10 (InputLayer)       [(None, 784)]             0         \n",
            "                                                                 \n",
            " dense_34 (Dense)            (None, 256)               200960    \n",
            "                                                                 \n",
            " dense_35 (Dense)            (None, 128)               32896     \n",
            "                                                                 \n",
            " dense_36 (Dense)            (None, 64)                8256      \n",
            "                                                                 \n",
            " dense_37 (Dense)            (None, 128)               8320      \n",
            "                                                                 \n",
            " dense_38 (Dense)            (None, 256)               33024     \n",
            "                                                                 \n",
            " dense_39 (Dense)            (None, 784)               201488    \n",
            "                                                                 \n",
            "=================================================================\n",
            "Total params: 484944 (1.85 MB)\n",
            "Trainable params: 484944 (1.85 MB)\n",
            "Non-trainable params: 0 (0.00 Byte)\n",
            "_________________________________________________________________\n",
            "Epoch 1/20\n",
            "235/235 [==============================] - 11s 36ms/step - loss: 0.0542 - val_loss: 0.0272\n",
            "Epoch 2/20\n",
            "235/235 [==============================] - 7s 31ms/step - loss: 0.0222 - val_loss: 0.0180\n",
            "Epoch 3/20\n",
            "235/235 [==============================] - 6s 24ms/step - loss: 0.0167 - val_loss: 0.0147\n",
            "Epoch 4/20\n",
            "235/235 [==============================] - 7s 31ms/step - loss: 0.0142 - val_loss: 0.0128\n",
            "Epoch 5/20\n",
            "235/235 [==============================] - 6s 24ms/step - loss: 0.0125 - val_loss: 0.0116\n",
            "Epoch 6/20\n",
            "235/235 [==============================] - 7s 31ms/step - loss: 0.0113 - val_loss: 0.0105\n",
            "Epoch 7/20\n",
            "235/235 [==============================] - 8s 33ms/step - loss: 0.0102 - val_loss: 0.0096\n",
            "Epoch 8/20\n",
            "235/235 [==============================] - 9s 39ms/step - loss: 0.0095 - val_loss: 0.0091\n",
            "Epoch 9/20\n",
            "235/235 [==============================] - 6s 28ms/step - loss: 0.0089 - val_loss: 0.0086\n",
            "Epoch 10/20\n",
            "235/235 [==============================] - 9s 38ms/step - loss: 0.0084 - val_loss: 0.0080\n",
            "Epoch 11/20\n",
            "235/235 [==============================] - 7s 28ms/step - loss: 0.0080 - val_loss: 0.0077\n",
            "Epoch 12/20\n",
            "235/235 [==============================] - 7s 32ms/step - loss: 0.0077 - val_loss: 0.0075\n",
            "Epoch 13/20\n",
            "235/235 [==============================] - 6s 24ms/step - loss: 0.0074 - val_loss: 0.0072\n",
            "Epoch 14/20\n",
            "235/235 [==============================] - 7s 30ms/step - loss: 0.0072 - val_loss: 0.0069\n",
            "Epoch 15/20\n",
            "235/235 [==============================] - 5s 22ms/step - loss: 0.0070 - val_loss: 0.0068\n",
            "Epoch 16/20\n",
            "235/235 [==============================] - 7s 30ms/step - loss: 0.0067 - val_loss: 0.0066\n",
            "Epoch 17/20\n",
            "235/235 [==============================] - 7s 29ms/step - loss: 0.0065 - val_loss: 0.0063\n",
            "Epoch 18/20\n",
            "235/235 [==============================] - 7s 29ms/step - loss: 0.0064 - val_loss: 0.0063\n",
            "Epoch 19/20\n",
            "235/235 [==============================] - 6s 23ms/step - loss: 0.0062 - val_loss: 0.0060\n",
            "Epoch 20/20\n",
            "235/235 [==============================] - 6s 24ms/step - loss: 0.0061 - val_loss: 0.0059\n"
          ]
        },
        {
          "output_type": "execute_result",
          "data": {
            "text/plain": [
              "<keras.src.callbacks.History at 0x7c8fc44375b0>"
            ]
          },
          "metadata": {},
          "execution_count": 53
        }
      ]
    },
    {
      "cell_type": "code",
      "source": [
        "encoderModel = Model(input_layer,encoded_output)\n",
        "\n",
        "encodedFeaturesTrain = encoderModel.predict(x_train)\n",
        "encodedFeaturesTest = encoderModel.predict(x_test)"
      ],
      "metadata": {
        "colab": {
          "base_uri": "https://localhost:8080/"
        },
        "id": "5toBxT-r1joA",
        "outputId": "cbc48865-41c0-479d-952e-823147f0b560"
      },
      "execution_count": 54,
      "outputs": [
        {
          "output_type": "stream",
          "name": "stdout",
          "text": [
            "1875/1875 [==============================] - 5s 3ms/step\n",
            "313/313 [==============================] - 2s 5ms/step\n"
          ]
        }
      ]
    },
    {
      "cell_type": "code",
      "source": [
        "print(\"encoded train shape: \",encodedFeaturesTrain.shape)\n",
        "print(\"encoded test shape: \",encodedFeaturesTest.shape)\n"
      ],
      "metadata": {
        "colab": {
          "base_uri": "https://localhost:8080/"
        },
        "id": "MqaxGP3d13ny",
        "outputId": "a76f36b6-3329-44e2-8b0f-3b393964b979"
      },
      "execution_count": 55,
      "outputs": [
        {
          "output_type": "stream",
          "name": "stdout",
          "text": [
            "encoded train shape:  (60000, 64)\n",
            "encoded test shape:  (10000, 64)\n"
          ]
        }
      ]
    },
    {
      "cell_type": "code",
      "source": [
        "classifier = Sequential([\n",
        "        Dense(64, activation ='relu'),\n",
        "        Dense(32, activation ='relu'),\n",
        "        Dense(10, activation ='softmax')\n",
        "    ])\n",
        "\n",
        "classifier.compile(optimizer='adam',loss='sparse_categorical_crossentropy',metrics=['accuracy'])"
      ],
      "metadata": {
        "id": "48gAWx7m4pqO"
      },
      "execution_count": 56,
      "outputs": []
    },
    {
      "cell_type": "code",
      "source": [
        "classifier.fit(encodedFeaturesTrain,y_train, epochs=10, batch_size=256,shuffle=True,validation_data=(encodedFeaturesTest,y_test))\n"
      ],
      "metadata": {
        "colab": {
          "base_uri": "https://localhost:8080/"
        },
        "id": "z4QBPpdn_mmc",
        "outputId": "e13b8d62-1f9b-4201-8168-d03bd82380f4"
      },
      "execution_count": 58,
      "outputs": [
        {
          "output_type": "stream",
          "name": "stdout",
          "text": [
            "Epoch 1/10\n",
            "235/235 [==============================] - 3s 6ms/step - loss: 1.2325 - accuracy: 0.6295 - val_loss: 0.4834 - val_accuracy: 0.8593\n",
            "Epoch 2/10\n",
            "235/235 [==============================] - 1s 5ms/step - loss: 0.4241 - accuracy: 0.8717 - val_loss: 0.3576 - val_accuracy: 0.8929\n",
            "Epoch 3/10\n",
            "235/235 [==============================] - 1s 5ms/step - loss: 0.3391 - accuracy: 0.8978 - val_loss: 0.3146 - val_accuracy: 0.9058\n",
            "Epoch 4/10\n",
            "235/235 [==============================] - 1s 5ms/step - loss: 0.2996 - accuracy: 0.9086 - val_loss: 0.2615 - val_accuracy: 0.9223\n",
            "Epoch 5/10\n",
            "235/235 [==============================] - 1s 4ms/step - loss: 0.2648 - accuracy: 0.9200 - val_loss: 0.2404 - val_accuracy: 0.9292\n",
            "Epoch 6/10\n",
            "235/235 [==============================] - 1s 3ms/step - loss: 0.2439 - accuracy: 0.9256 - val_loss: 0.2198 - val_accuracy: 0.9356\n",
            "Epoch 7/10\n",
            "235/235 [==============================] - 1s 3ms/step - loss: 0.2258 - accuracy: 0.9306 - val_loss: 0.1980 - val_accuracy: 0.9399\n",
            "Epoch 8/10\n",
            "235/235 [==============================] - 1s 3ms/step - loss: 0.2109 - accuracy: 0.9364 - val_loss: 0.2027 - val_accuracy: 0.9373\n",
            "Epoch 9/10\n",
            "235/235 [==============================] - 1s 3ms/step - loss: 0.1972 - accuracy: 0.9405 - val_loss: 0.1966 - val_accuracy: 0.9395\n",
            "Epoch 10/10\n",
            "235/235 [==============================] - 1s 3ms/step - loss: 0.1894 - accuracy: 0.9426 - val_loss: 0.1877 - val_accuracy: 0.9412\n"
          ]
        },
        {
          "output_type": "execute_result",
          "data": {
            "text/plain": [
              "<keras.src.callbacks.History at 0x7c8fdefe09a0>"
            ]
          },
          "metadata": {},
          "execution_count": 58
        }
      ]
    },
    {
      "cell_type": "code",
      "source": [
        "image_num =random.randint(0,784)\n",
        "\n",
        "x_testRe = x_test.values.reshape(-1,28,28)\n",
        "rand_img = x_testRe[image_num]\n",
        "\n",
        "plt.imshow(rand_img,cmap='gray')\n",
        "plt.show()"
      ],
      "metadata": {
        "colab": {
          "base_uri": "https://localhost:8080/",
          "height": 430
        },
        "id": "dwRuxZ0SCpQj",
        "outputId": "482467fb-7d58-4683-e4e5-b46764d337bf"
      },
      "execution_count": 69,
      "outputs": [
        {
          "output_type": "display_data",
          "data": {
            "text/plain": [
              "<Figure size 640x480 with 1 Axes>"
            ],
            "image/png": "[encoded data removed]"
          },
          "metadata": {}
        }
      ]
    }
  ]
}